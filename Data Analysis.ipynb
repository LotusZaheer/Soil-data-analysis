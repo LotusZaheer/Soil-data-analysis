{
  "nbformat": 4,
  "nbformat_minor": 0,
  "metadata": {
    "colab": {
      "provenance": [],
      "authorship_tag": "ABX9TyOLC+ttZw4PBHvR5cImFN6I"
    },
    "kernelspec": {
      "name": "python3",
      "display_name": "Python 3"
    },
    "language_info": {
      "name": "python"
    }
  },
  "cells": [
    {
      "cell_type": "markdown",
      "source": [
        "Proyecto de Analisis de Datos"
      ],
      "metadata": {
        "id": "gYC4VFmnOD5c"
      }
    },
    {
      "cell_type": "code",
      "source": [],
      "metadata": {
        "id": "mLzwRg7NODPV"
      },
      "execution_count": null,
      "outputs": []
    },
    {
      "cell_type": "code",
      "execution_count": null,
      "metadata": {
        "id": "RX_ympqdNxKS"
      },
      "outputs": [],
      "source": []
    }
  ]
}